{
 "cells": [
  {
   "cell_type": "code",
   "execution_count": null,
   "metadata": {
    "colab": {
     "base_uri": "https://localhost:8080/"
    },
    "id": "rdslPhQx-oP2",
    "outputId": "f0a5f5c6-3cc3-45b6-9a11-afcfd41ad0c0"
   },
   "outputs": [],
   "source": [
    "mahasiswa = [[],[],[]]\n",
    "stop = False\n",
    "i = 0\n",
    "\n",
    "def hitung_rata(njava,nphp,npy):\n",
    "    rata = (njava + nphp + npy) / 3\n",
    "    return str(rata)\n",
    "\n",
    "def show():\n",
    "    for i in range(len(mahasiswa[0])):\n",
    "      print(\"--------------------------------------\")\n",
    "      print(\"\\nNama         : \" + mahasiswa[0][i])\n",
    "      print(f\"Nilai Java   : {mahasiswa[1][i][0]}\")\n",
    "      print(f\"Nilai PHP    : {mahasiswa[1][i][1]}\")\n",
    "      print(f\"Nilai Python : {mahasiswa[1][i][2]}\")\n",
    "      # hitung rata rata\n",
    "      njava = mahasiswa[1][i][0]\n",
    "      nphp = mahasiswa[1][i][1]\n",
    "      npy = mahasiswa[1][i][2]\n",
    "      rata_rata = hitung_rata(njava,nphp,npy)\n",
    "      print(f\"Nilai rata - rata {mahasiswa[0][i]} adalah : {rata_rata}\\n\")\n",
    "      print(\"--------------------------------------\")\n",
    "\n",
    "# Mengisi nama dan nilai mahasiswa\n",
    "while(not stop):\n",
    "    nama = input(\"Masukkan Nama         : \")\n",
    "    mahasiswa[0].append(nama)\n",
    "    nilai = []\n",
    "    njava = int(input(\"Masukkan nilai Java   : \"))\n",
    "    nilai.append(njava)\n",
    "    nphp = int(input(\"Masukkan nilai PHP    : \"))\n",
    "    nilai.append(nphp)\n",
    "    npy = int(input(\"Masukkan nilai Python : \"))\n",
    "    nilai.append(npy)\n",
    "\n",
    "    mahasiswa[1].append(nilai)\n",
    "\n",
    "    # Increment i\n",
    "    i += 1\n",
    "    \n",
    "    tanya = input(\"\\nMau isi lagi? (y/t): \")\n",
    "\n",
    "    if(tanya == \"t\"): \n",
    "      stop = True\n",
    "      show()\n",
    "    print(\"\\n\")"
   ]
  }
 ],
 "metadata": {
  "colab": {
   "collapsed_sections": [],
   "name": "rata-rata.ipynb",
   "provenance": []
  },
  "kernelspec": {
   "display_name": "Python 3 (ipykernel)",
   "language": "python",
   "name": "python3"
  },
  "language_info": {
   "codemirror_mode": {
    "name": "ipython",
    "version": 3
   },
   "file_extension": ".py",
   "mimetype": "text/x-python",
   "name": "python",
   "nbconvert_exporter": "python",
   "pygments_lexer": "ipython3",
   "version": "3.9.7"
  }
 },
 "nbformat": 4,
 "nbformat_minor": 1
}
