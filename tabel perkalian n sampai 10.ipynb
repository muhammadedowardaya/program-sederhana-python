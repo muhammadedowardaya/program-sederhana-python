{
 "cells": [
  {
   "cell_type": "code",
   "execution_count": 4,
   "id": "797bc819",
   "metadata": {},
   "outputs": [
    {
     "name": "stdout",
     "output_type": "stream",
     "text": [
      "Menampilkan Tabel Perkalian dari: 2\n",
      "2 x 1 = 2\n",
      "2 x 2 = 4\n",
      "2 x 3 = 6\n",
      "2 x 4 = 8\n",
      "2 x 5 = 10\n",
      "2 x 6 = 12\n",
      "2 x 7 = 14\n",
      "2 x 8 = 16\n",
      "2 x 9 = 18\n",
      "2 x 10 = 20\n"
     ]
    }
   ],
   "source": [
    "# Menginput Angka\n",
    "angka = int(input(\"Menampilkan Tabel Perkalian dari: \"))\n",
    " \n",
    "# Menghitung 10 Kali dari Kisaran 1 sampai 10\n",
    "for i in range(1, 11):\n",
    " \n",
    "#Menampilkan Tabel Perkalian\n",
    "    print(f\"{angka} x {i} = {angka*i}\")"
   ]
  },
  {
   "cell_type": "code",
   "execution_count": null,
   "id": "33a26295",
   "metadata": {},
   "outputs": [],
   "source": []
  },
  {
   "cell_type": "code",
   "execution_count": null,
   "id": "bfe16def",
   "metadata": {},
   "outputs": [],
   "source": []
  }
 ],
 "metadata": {
  "kernelspec": {
   "display_name": "Python 3 (ipykernel)",
   "language": "python",
   "name": "python3"
  },
  "language_info": {
   "codemirror_mode": {
    "name": "ipython",
    "version": 3
   },
   "file_extension": ".py",
   "mimetype": "text/x-python",
   "name": "python",
   "nbconvert_exporter": "python",
   "pygments_lexer": "ipython3",
   "version": "3.9.7"
  }
 },
 "nbformat": 4,
 "nbformat_minor": 5
}
