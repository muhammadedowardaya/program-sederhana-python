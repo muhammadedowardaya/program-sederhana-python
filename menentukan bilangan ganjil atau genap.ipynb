{
 "cells": [
  {
   "cell_type": "code",
   "execution_count": 1,
   "id": "194b06a0",
   "metadata": {},
   "outputs": [
    {
     "name": "stdout",
     "output_type": "stream",
     "text": [
      "Masukkan angka :2001\n",
      "2001 merupakan bilangan ganjil\n"
     ]
    }
   ],
   "source": [
    "# Menentukan bilangan ganjil/genap\n",
    "angka = int(input(\"Masukkan angka :\"))\n",
    "\n",
    "if angka % 2 == 0:\n",
    "    print(f\"{angka} merupakan bilangan genap\")\n",
    "else:\n",
    "    print(f\"{angka} merupakan bilangan ganjil\")"
   ]
  },
  {
   "cell_type": "code",
   "execution_count": null,
   "id": "c327df14",
   "metadata": {},
   "outputs": [],
   "source": []
  }
 ],
 "metadata": {
  "kernelspec": {
   "display_name": "Python 3 (ipykernel)",
   "language": "python",
   "name": "python3"
  },
  "language_info": {
   "codemirror_mode": {
    "name": "ipython",
    "version": 3
   },
   "file_extension": ".py",
   "mimetype": "text/x-python",
   "name": "python",
   "nbconvert_exporter": "python",
   "pygments_lexer": "ipython3",
   "version": "3.9.7"
  }
 },
 "nbformat": 4,
 "nbformat_minor": 5
}
